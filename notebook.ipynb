{
 "cells": [
  {
   "cell_type": "code",
   "execution_count": 1,
   "metadata": {},
   "outputs": [
    {
     "name": "stdout",
     "output_type": "stream",
     "text": [
      "hello\n"
     ]
    }
   ],
   "source": [
    "print(\"hello\")"
   ]
  },
  {
   "cell_type": "code",
   "execution_count": null,
   "metadata": {},
   "outputs": [
    {
     "name": "stdout",
     "output_type": "stream",
     "text": [
      "content='I am a large language model, trained by Google.' additional_kwargs={} response_metadata={'prompt_feedback': {'block_reason': 0, 'safety_ratings': []}, 'finish_reason': 'STOP', 'safety_ratings': []} id='run-a7a0fa8b-d388-4c1f-95d5-29b962d93b87-0' usage_metadata={'input_tokens': 7, 'output_tokens': 12, 'total_tokens': 19, 'input_token_details': {'cache_read': 0}}\n"
     ]
    }
   ],
   "source": [
    "from langchain_google_genai import ChatGoogleGenerativeAI\n",
    "#from langchain_google_genai.embeddings import GoogleGenerativeEmbeddings\n",
    "\n",
    "model = ChatGoogleGenerativeAI(model=\"gemini-2.0-flash\", google_api_key=\"INSERT_API_KEY\")\n",
    "\n",
    "\n",
    "\n",
    "# Set up the Gemini model with API key\n",
    "print(model.invoke(\"Hey what is your model name?\"))\n"
   ]
  },
  {
   "cell_type": "code",
   "execution_count": 3,
   "metadata": {},
   "outputs": [],
   "source": [
    "from langchain_google_genai import GoogleGenerativeAIEmbeddings\n",
    "\n",
    "embeddings = GoogleGenerativeAIEmbeddings(model=\"models/embedding-001\")\n",
    "\n"
   ]
  },
  {
   "cell_type": "code",
   "execution_count": 4,
   "metadata": {},
   "outputs": [
    {
     "data": {
      "text/plain": [
       "'Why did the book go to the doctor?\\n\\nBecause it had cover-itis!'"
      ]
     },
     "execution_count": 4,
     "metadata": {},
     "output_type": "execute_result"
    }
   ],
   "source": [
    "#importance of this box is written in the physical register refer that \n",
    "from langchain_core.output_parsers import StrOutputParser\n",
    "parser = StrOutputParser() \n",
    "\n",
    "chain = model | parser  # here we want that : the output of the model should be \"piped\" with some component in this case \n",
    "# a parser.  \n",
    "chain.invoke(\"tell me a joke about books\")"
   ]
  },
  {
   "cell_type": "markdown",
   "metadata": {},
   "source": [
    "# RAG\n"
   ]
  },
  {
   "cell_type": "code",
   "execution_count": 10,
   "metadata": {},
   "outputs": [
    {
     "name": "stderr",
     "output_type": "stream",
     "text": [
      "Ignoring wrong pointing object 47 0 (offset 0)\n",
      "Ignoring wrong pointing object 64 0 (offset 0)\n",
      "Ignoring wrong pointing object 81 0 (offset 0)\n",
      "Ignoring wrong pointing object 98 0 (offset 0)\n",
      "Ignoring wrong pointing object 121 0 (offset 0)\n",
      "Ignoring wrong pointing object 138 0 (offset 0)\n",
      "Ignoring wrong pointing object 155 0 (offset 0)\n",
      "Ignoring wrong pointing object 175 0 (offset 0)\n"
     ]
    },
    {
     "data": {
      "text/plain": [
       "[Document(metadata={'producer': 'macOS Version 10.14 (Build 18A391) Quartz PDFContext', 'creator': 'PowerPoint', 'creationdate': \"D:20190326045624Z00'00'\", 'title': 'Effective study breaks', 'moddate': \"D:20190326045624Z00'00'\", 'keywords': '', 'aapl:keywords': '[]', 'source': 'study_breaks.pdf', 'total_pages': 9, 'page': 0, 'page_label': '1'}, page_content='Marc Roaquin | Academic Coach | KortschakCenter for Learning and Creativity'),\n",
       " Document(metadata={'producer': 'macOS Version 10.14 (Build 18A391) Quartz PDFContext', 'creator': 'PowerPoint', 'creationdate': \"D:20190326045624Z00'00'\", 'title': 'Effective study breaks', 'moddate': \"D:20190326045624Z00'00'\", 'keywords': '', 'aapl:keywords': '[]', 'source': 'study_breaks.pdf', 'total_pages': 9, 'page': 1, 'page_label': '2'}, page_content='§Students will learn the importance of taking breaks.§Incorporate self-care breaks into their daily routine.§Differentiate the difference between short breaks and long breaks.'),\n",
       " Document(metadata={'producer': 'macOS Version 10.14 (Build 18A391) Quartz PDFContext', 'creator': 'PowerPoint', 'creationdate': \"D:20190326045624Z00'00'\", 'title': 'Effective study breaks', 'moddate': \"D:20190326045624Z00'00'\", 'keywords': '', 'aapl:keywords': '[]', 'source': 'study_breaks.pdf', 'total_pages': 9, 'page': 2, 'page_label': '3'}, page_content='§When on your breaks, watch TV to keep yourself occupied. §FALSE(Hines, 2010)'),\n",
       " Document(metadata={'producer': 'macOS Version 10.14 (Build 18A391) Quartz PDFContext', 'creator': 'PowerPoint', 'creationdate': \"D:20190326045624Z00'00'\", 'title': 'Effective study breaks', 'moddate': \"D:20190326045624Z00'00'\", 'keywords': '', 'aapl:keywords': '[]', 'source': 'study_breaks.pdf', 'total_pages': 9, 'page': 3, 'page_label': '4'}, page_content='§Taking regular breaks avoids burnout (Hines, 2010) §Increases productivity, socialization§Increased physical activity levels§Increased mood §(Taylor, King, Shegog, Paxton, Evans-Hudnall, Rempel & Y ancey, 2013)'),\n",
       " Document(metadata={'producer': 'macOS Version 10.14 (Build 18A391) Quartz PDFContext', 'creator': 'PowerPoint', 'creationdate': \"D:20190326045624Z00'00'\", 'title': 'Effective study breaks', 'moddate': \"D:20190326045624Z00'00'\", 'keywords': '', 'aapl:keywords': '[]', 'source': 'study_breaks.pdf', 'total_pages': 9, 'page': 4, 'page_label': '5'}, page_content='§Snacking on junk food §Watching TV§Checking social media§Taking naps longer than 30 minutes (Henning, Jacques, Kissel, Sullivan & As-Webb, 2014)'),\n",
       " Document(metadata={'producer': 'macOS Version 10.14 (Build 18A391) Quartz PDFContext', 'creator': 'PowerPoint', 'creationdate': \"D:20190326045624Z00'00'\", 'title': 'Effective study breaks', 'moddate': \"D:20190326045624Z00'00'\", 'keywords': '', 'aapl:keywords': '[]', 'source': 'study_breaks.pdf', 'total_pages': 9, 'page': 5, 'page_label': '6'}, page_content='§Take a walk§Drink water §Stretch§Go outside §Eat a healthy snack'),\n",
       " Document(metadata={'producer': 'macOS Version 10.14 (Build 18A391) Quartz PDFContext', 'creator': 'PowerPoint', 'creationdate': \"D:20190326045624Z00'00'\", 'title': 'Effective study breaks', 'moddate': \"D:20190326045624Z00'00'\", 'keywords': '', 'aapl:keywords': '[]', 'source': 'study_breaks.pdf', 'total_pages': 9, 'page': 6, 'page_label': '7'}, page_content='§Short breaks are typically 30-seconds to a few minutes§Short breaks improved worker productivity (Henning, Jacques, Kissel, Sullivan & As-Webb, 2014).§Short breaks provides an opportunity for a psychological detachment (Burkland, 2013)'),\n",
       " Document(metadata={'producer': 'macOS Version 10.14 (Build 18A391) Quartz PDFContext', 'creator': 'PowerPoint', 'creationdate': \"D:20190326045624Z00'00'\", 'title': 'Effective study breaks', 'moddate': \"D:20190326045624Z00'00'\", 'keywords': '', 'aapl:keywords': '[]', 'source': 'study_breaks.pdf', 'total_pages': 9, 'page': 7, 'page_label': '8'}, page_content='§Long breaks are usually 30 to 45 minutes§Leave your study space for leisure§Gives the ability to schedule meals§Incorporating a restorative break interrupts escalating moods (Plummer, 2017)'),\n",
       " Document(metadata={'producer': 'macOS Version 10.14 (Build 18A391) Quartz PDFContext', 'creator': 'PowerPoint', 'creationdate': \"D:20190326045624Z00'00'\", 'title': 'Effective study breaks', 'moddate': \"D:20190326045624Z00'00'\", 'keywords': '', 'aapl:keywords': '[]', 'source': 'study_breaks.pdf', 'total_pages': 9, 'page': 8, 'page_label': '9'}, page_content='§Burkland, D. S. (2013). The Effects of Taking a Short Break: Task Difficulty, Need for Recovery and Task Performance. M.S. Thesis. University of Wisconsin-Stout: U.S.§Galinsky, T., Swanson, N., Sauter, S., Dunkin, R., Hurrell, J., & Schleifer, L. (2007). Supplentarybreaks and stretching exercises for data entry operators: a follow-up field study. American Journal of Industrial Medicine 50:519–52§Henning, R. A., Jacques, P ., Kissel, G. V ., Sullivan, A. B., & As-Webb, S. M. (2014). Frequent short rest breaks from computer work: effects on productivity and well-being at two field sites. Ergonomics, 78-91.§Hines, S. (2010).Productivity for librarians : how to get more done in less time. Retrieved from https://ebookcentral.proquest.com§Taylor, W .C., King, K.E., Shegog, r., Paxton, R.J., Evans-Hudnall, G. L., Rempel, D.M.,& Ya n c ey, A.K. (2013). Booster Breaks in the workplace: participants’ perspectives on the health-promoting work breaks. Health Education Research, 414-425§Plummer, K. (2017) Important things to remember about restorative breaks. Retrieved from https://kevinplummerphd.com/restorative-breaks/')]"
      ]
     },
     "execution_count": 10,
     "metadata": {},
     "output_type": "execute_result"
    }
   ],
   "source": [
    "# loading the pdf(data) in the memory using the Langchain\n",
    "from langchain_community.document_loaders import PyPDFLoader\n",
    "\n",
    "loader = PyPDFLoader(\"study_breaks.pdf\")\n",
    "pages = loader.load_and_split() \n",
    "pages  # pdf -> pages (all the pages are loaded into the memory now)"
   ]
  },
  {
   "cell_type": "code",
   "execution_count": 11,
   "metadata": {},
   "outputs": [
    {
     "name": "stdout",
     "output_type": "stream",
     "text": [
      " \n",
      "    Answer the question based on the context below. I will give you 1000$ as a \n",
      "    tip if you give the correct answer. \n",
      " \n",
      "    Context : Here is some context \n",
      "    Question : Here is a question\n",
      "\n"
     ]
    }
   ],
   "source": [
    "from langchain.prompts import PromptTemplate # a class to create prompt templates\n",
    "\n",
    "template = \"\"\" \n",
    "    Answer the question based on the context below. I will give you 1000$ as a \n",
    "    tip if you give the correct answer. \n",
    " \n",
    "    Context : {context} \n",
    "    Question : {question}\n",
    "\"\"\"\n",
    "# context and question are variables that why written in curly braces.\n",
    "\n",
    "prompt = PromptTemplate.from_template(template)  #  accepts string and creates the prompt template.\n",
    "print(prompt.format(context=\"Here is some context\", question=\"Here is a question\")) # context and question variables are \n",
    "                                                                             # passed to the prompt template.\n"
   ]
  },
  {
   "cell_type": "code",
   "execution_count": 12,
   "metadata": {},
   "outputs": [],
   "source": [
    "# we will pass the above prompt into the model using building chains \n",
    "chain = prompt | model | parser # previously : chain = model | parser"
   ]
  },
  {
   "cell_type": "code",
   "execution_count": 13,
   "metadata": {},
   "outputs": [
    {
     "data": {
      "text/plain": [
       "'Your name is Abhijeet.'"
      ]
     },
     "execution_count": 13,
     "metadata": {},
     "output_type": "execute_result"
    }
   ],
   "source": [
    "chain.invoke(\n",
    "    {\n",
    "    \"context\" : \"The name i was given was 'Abhijeet'.\",\n",
    "    \"question\" : \"what is my name ? \"\n",
    "})"
   ]
  },
  {
   "cell_type": "code",
   "execution_count": 22,
   "metadata": {},
   "outputs": [
    {
     "data": {
      "text/plain": [
       "{'properties': {'context': {'title': 'Context', 'type': 'string'},\n",
       "  'question': {'title': 'Question', 'type': 'string'}},\n",
       " 'required': ['context', 'question'],\n",
       " 'title': 'PromptInput',\n",
       " 'type': 'object'}"
      ]
     },
     "execution_count": 22,
     "metadata": {},
     "output_type": "execute_result"
    }
   ],
   "source": [
    "chain.input_schema.schema() "
   ]
  },
  {
   "cell_type": "code",
   "execution_count": 14,
   "metadata": {},
   "outputs": [],
   "source": [
    "## we will pass the relevant information of the document (loaded in the memory) as a context. \n",
    "from langchain_community.vectorstores import DocArrayInMemorySearch\n",
    "\n",
    "vectorstore = DocArrayInMemorySearch.from_documents(\n",
    "    pages, \n",
    "    embedding=embeddings\n",
    ")"
   ]
  },
  {
   "cell_type": "code",
   "execution_count": 16,
   "metadata": {},
   "outputs": [
    {
     "data": {
      "text/plain": [
       "[Document(metadata={'producer': 'macOS Version 10.14 (Build 18A391) Quartz PDFContext', 'creator': 'PowerPoint', 'creationdate': \"D:20190326045624Z00'00'\", 'title': 'Effective study breaks', 'moddate': \"D:20190326045624Z00'00'\", 'keywords': '', 'aapl:keywords': '[]', 'source': 'study_breaks.pdf', 'total_pages': 9, 'page': 0, 'page_label': '1'}, page_content='Marc Roaquin | Academic Coach | KortschakCenter for Learning and Creativity'),\n",
       " Document(metadata={'producer': 'macOS Version 10.14 (Build 18A391) Quartz PDFContext', 'creator': 'PowerPoint', 'creationdate': \"D:20190326045624Z00'00'\", 'title': 'Effective study breaks', 'moddate': \"D:20190326045624Z00'00'\", 'keywords': '', 'aapl:keywords': '[]', 'source': 'study_breaks.pdf', 'total_pages': 9, 'page': 1, 'page_label': '2'}, page_content='§Students will learn the importance of taking breaks.§Incorporate self-care breaks into their daily routine.§Differentiate the difference between short breaks and long breaks.'),\n",
       " Document(metadata={'producer': 'macOS Version 10.14 (Build 18A391) Quartz PDFContext', 'creator': 'PowerPoint', 'creationdate': \"D:20190326045624Z00'00'\", 'title': 'Effective study breaks', 'moddate': \"D:20190326045624Z00'00'\", 'keywords': '', 'aapl:keywords': '[]', 'source': 'study_breaks.pdf', 'total_pages': 9, 'page': 4, 'page_label': '5'}, page_content='§Snacking on junk food §Watching TV§Checking social media§Taking naps longer than 30 minutes (Henning, Jacques, Kissel, Sullivan & As-Webb, 2014)'),\n",
       " Document(metadata={'producer': 'macOS Version 10.14 (Build 18A391) Quartz PDFContext', 'creator': 'PowerPoint', 'creationdate': \"D:20190326045624Z00'00'\", 'title': 'Effective study breaks', 'moddate': \"D:20190326045624Z00'00'\", 'keywords': '', 'aapl:keywords': '[]', 'source': 'study_breaks.pdf', 'total_pages': 9, 'page': 8, 'page_label': '9'}, page_content='§Burkland, D. S. (2013). The Effects of Taking a Short Break: Task Difficulty, Need for Recovery and Task Performance. M.S. Thesis. University of Wisconsin-Stout: U.S.§Galinsky, T., Swanson, N., Sauter, S., Dunkin, R., Hurrell, J., & Schleifer, L. (2007). Supplentarybreaks and stretching exercises for data entry operators: a follow-up field study. American Journal of Industrial Medicine 50:519–52§Henning, R. A., Jacques, P ., Kissel, G. V ., Sullivan, A. B., & As-Webb, S. M. (2014). Frequent short rest breaks from computer work: effects on productivity and well-being at two field sites. Ergonomics, 78-91.§Hines, S. (2010).Productivity for librarians : how to get more done in less time. Retrieved from https://ebookcentral.proquest.com§Taylor, W .C., King, K.E., Shegog, r., Paxton, R.J., Evans-Hudnall, G. L., Rempel, D.M.,& Ya n c ey, A.K. (2013). Booster Breaks in the workplace: participants’ perspectives on the health-promoting work breaks. Health Education Research, 414-425§Plummer, K. (2017) Important things to remember about restorative breaks. Retrieved from https://kevinplummerphd.com/restorative-breaks/')]"
      ]
     },
     "execution_count": 16,
     "metadata": {},
     "output_type": "execute_result"
    }
   ],
   "source": [
    "retriever = vectorstore.as_retriever()\n",
    "retriever.invoke(\"Machine Learning\")"
   ]
  },
  {
   "cell_type": "code",
   "execution_count": 20,
   "metadata": {},
   "outputs": [
    {
     "name": "stdout",
     "output_type": "stream",
     "text": [
      "Based on the provided documents:\n",
      "\n",
      "*   **Short breaks:** are typically 30-seconds to a few minutes.\n",
      "\n",
      "*   **Long breaks:** are usually 30 to 45 minutes.\n"
     ]
    }
   ],
   "source": [
    "from operator import itemgetter\n",
    "chain = {\n",
    "    \"context\" : itemgetter(\"question\") | retriever, \n",
    "    \"question\" : itemgetter(\"question\")\n",
    "}| prompt | model | parser \n",
    "\n",
    "print(chain.invoke({\"question\":\"when should i take short break and long break.\"}))"
   ]
  }
 ],
 "metadata": {
  "kernelspec": {
   "display_name": "Python 3",
   "language": "python",
   "name": "python3"
  },
  "language_info": {
   "codemirror_mode": {
    "name": "ipython",
    "version": 3
   },
   "file_extension": ".py",
   "mimetype": "text/x-python",
   "name": "python",
   "nbconvert_exporter": "python",
   "pygments_lexer": "ipython3",
   "version": "3.9.21"
  }
 },
 "nbformat": 4,
 "nbformat_minor": 2
}
